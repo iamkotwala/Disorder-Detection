{
 "cells": [
  {
   "cell_type": "code",
   "execution_count": 1,
   "metadata": {},
   "outputs": [],
   "source": [
    "from tkinter import *\n",
    "from PIL import Image\n",
    "\n",
    "\n",
    "win = Tk()\n",
    "win.title('EMOTIBOT')\n",
    "win.config(background = \"#D9D9D9\")\n",
    "win.resizable(width=FALSE, height=FALSE)\n",
    "#frame1 for webcamera\n",
    "frame1 = Frame(win, width=600, bg=\"white\",height=300, padx=10, pady=10,highlightbackground=\"grey\", highlightcolor=\"black\", highlightthickness=5)\n",
    "frame1.pack(side=LEFT ,fill=Y,padx=10, pady=10)\n",
    "l1 = Label(frame1, text=\"turn ON the webcam\",font=(\"Helvetica\", 12),bg=\"white\", fg=\"#0E7A3F\")\n",
    "l1.pack(fill=Y,padx=150,pady=300)\n",
    "\n",
    "#frame2 for logo\n",
    "frame2 = Frame(win, bg='#D9D9D9', width=300, height=5,padx=10, pady=10,highlightbackground=\"grey\", highlightcolor=\"black\")\n",
    "#photo = PhotoImage(file='C:\\\\Users\\\\jayat\\\\OneDrive\\\\Desktop\\\\logo.png')\n",
    "#Label(frame2, image=photo,padx=10)\n",
    "frame2.pack(side = TOP,fill=X,padx=10) \n",
    "photo = PhotoImage(file='C:\\\\Users\\\\jayat\\\\OneDrive\\\\Desktop\\\\logo.png')\n",
    "l = Label(frame2, image=photo,padx=10,pady=10)\n",
    "l.pack()\n",
    "l1 = Label(frame2, text=\"logs\",font=(\"Helvetica\", 16),bg=\"#D9D9D9\", fg=\"#0E7A3F\")\n",
    "l1.pack(side=BOTTOM,fill=Y,padx=2)\n",
    "\n",
    "#frame3 for logs\n",
    "frame3 = Frame(win, bg='black', width=300, height=150,padx=5, pady=5,highlightbackground=\"#707173\", highlightcolor=\"black\")\n",
    "frame3.pack(fill=X,expand=True,padx=5, pady=5)\n",
    "frame3.pack_propagate(0) #stops frame from shrinking\n",
    "\n",
    " \n",
    "#frame4 for buttons\n",
    "frame4 = Frame(win, bg='grey', width=300, height=60,padx=5, pady=5,highlightbackground=\"grey\", highlightcolor=\"black\")\n",
    "frame4.pack(side=BOTTOM, fill=BOTH,expand=1,padx=5,pady=10)\n",
    "\n",
    "#photo = PhotoImage(file ='C:\\\\Users\\\\jayat\\\\OneDrive\\\\Desktop\\\\btn.png') \n",
    "  \n",
    "# Resizing image to fit on button \n",
    "\n",
    "#photo = photo.subsample(5,5)\n",
    "#b = Button(frame4,image = photo, padx = 40)\n",
    "\n",
    "\n",
    "#Button(root, text = 'Click Me !', image = photoimage, \n",
    "                    #compound = LEFT).pack(side = TOP) \n",
    "b = Button(frame4, text='ON', padx = 40)\n",
    "b.pack(side=LEFT,pady = 20, padx = 20)\n",
    "c = Button(frame4, text='OFF', padx=40)\n",
    "c.pack(side=RIGHT,pady = 20, padx = 20)\n",
    "\n",
    "\n",
    "win.mainloop()"
   ]
  },
  {
   "cell_type": "code",
   "execution_count": null,
   "metadata": {},
   "outputs": [],
   "source": []
  }
 ],
 "metadata": {
  "kernelspec": {
   "display_name": "Python 3",
   "language": "python",
   "name": "python3"
  },
  "language_info": {
   "codemirror_mode": {
    "name": "ipython",
    "version": 3
   },
   "file_extension": ".py",
   "mimetype": "text/x-python",
   "name": "python",
   "nbconvert_exporter": "python",
   "pygments_lexer": "ipython3",
   "version": "3.7.6"
  }
 },
 "nbformat": 4,
 "nbformat_minor": 4
}
