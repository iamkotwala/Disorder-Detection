{
 "cells": [
  {
   "cell_type": "code",
   "execution_count": 11,
   "metadata": {},
   "outputs": [],
   "source": [
    "import mysql.connector\n",
    "import pandas as pd\n",
    "import matplotlib.pyplot as plt"
   ]
  },
  {
   "cell_type": "code",
   "execution_count": 4,
   "metadata": {},
   "outputs": [],
   "source": [
    "#Create the connection object   \n",
    "myconn = mysql.connector.connect(host = \"localhost\", user = \"root\",passwd = \"\",database = \"emotibot\")  \n",
    "  \n",
    "#creating the cursor object\n",
    "cur = myconn.cursor()"
   ]
  },
  {
   "cell_type": "code",
   "execution_count": 6,
   "metadata": {},
   "outputs": [],
   "source": [
    "df = pd.read_sql('SELECT * FROM logs', con=myconn)"
   ]
  },
  {
   "cell_type": "code",
   "execution_count": 7,
   "metadata": {},
   "outputs": [
    {
     "data": {
      "text/html": [
       "<div>\n",
       "<style scoped>\n",
       "    .dataframe tbody tr th:only-of-type {\n",
       "        vertical-align: middle;\n",
       "    }\n",
       "\n",
       "    .dataframe tbody tr th {\n",
       "        vertical-align: top;\n",
       "    }\n",
       "\n",
       "    .dataframe thead th {\n",
       "        text-align: right;\n",
       "    }\n",
       "</style>\n",
       "<table border=\"1\" class=\"dataframe\">\n",
       "  <thead>\n",
       "    <tr style=\"text-align: right;\">\n",
       "      <th></th>\n",
       "      <th>logID</th>\n",
       "      <th>Emotion</th>\n",
       "      <th>Accuracy</th>\n",
       "      <th>TimeStamp</th>\n",
       "    </tr>\n",
       "  </thead>\n",
       "  <tbody>\n",
       "    <tr>\n",
       "      <th>0</th>\n",
       "      <td>202</td>\n",
       "      <td>Fearful</td>\n",
       "      <td>89.9</td>\n",
       "      <td>Thu May  7 12:01:08 2020</td>\n",
       "    </tr>\n",
       "    <tr>\n",
       "      <th>1</th>\n",
       "      <td>203</td>\n",
       "      <td>Neutral</td>\n",
       "      <td>89.9</td>\n",
       "      <td>Thu May  7 12:01:08 2020</td>\n",
       "    </tr>\n",
       "    <tr>\n",
       "      <th>2</th>\n",
       "      <td>204</td>\n",
       "      <td>Fearful</td>\n",
       "      <td>89.9</td>\n",
       "      <td>Thu May  7 12:01:09 2020</td>\n",
       "    </tr>\n",
       "    <tr>\n",
       "      <th>3</th>\n",
       "      <td>205</td>\n",
       "      <td>Surprised</td>\n",
       "      <td>89.9</td>\n",
       "      <td>Thu May  7 12:01:09 2020</td>\n",
       "    </tr>\n",
       "    <tr>\n",
       "      <th>4</th>\n",
       "      <td>206</td>\n",
       "      <td>Neutral</td>\n",
       "      <td>89.9</td>\n",
       "      <td>Thu May  7 12:39:13 2020</td>\n",
       "    </tr>\n",
       "    <tr>\n",
       "      <th>...</th>\n",
       "      <td>...</td>\n",
       "      <td>...</td>\n",
       "      <td>...</td>\n",
       "      <td>...</td>\n",
       "    </tr>\n",
       "    <tr>\n",
       "      <th>432</th>\n",
       "      <td>634</td>\n",
       "      <td>Fearful</td>\n",
       "      <td>89.9</td>\n",
       "      <td>Sat May  9 15:53:14 2020</td>\n",
       "    </tr>\n",
       "    <tr>\n",
       "      <th>433</th>\n",
       "      <td>635</td>\n",
       "      <td>Fearful</td>\n",
       "      <td>89.9</td>\n",
       "      <td>Sat May 16 12:35:49 2020</td>\n",
       "    </tr>\n",
       "    <tr>\n",
       "      <th>434</th>\n",
       "      <td>636</td>\n",
       "      <td>Neutral</td>\n",
       "      <td>89.9</td>\n",
       "      <td>Sat May 16 12:35:49 2020</td>\n",
       "    </tr>\n",
       "    <tr>\n",
       "      <th>435</th>\n",
       "      <td>637</td>\n",
       "      <td>Fearful</td>\n",
       "      <td>89.9</td>\n",
       "      <td>Sat May 16 12:35:49 2020</td>\n",
       "    </tr>\n",
       "    <tr>\n",
       "      <th>436</th>\n",
       "      <td>638</td>\n",
       "      <td>Neutral</td>\n",
       "      <td>89.9</td>\n",
       "      <td>Sat May 16 12:35:50 2020</td>\n",
       "    </tr>\n",
       "  </tbody>\n",
       "</table>\n",
       "<p>437 rows × 4 columns</p>\n",
       "</div>"
      ],
      "text/plain": [
       "     logID    Emotion  Accuracy                 TimeStamp\n",
       "0      202    Fearful      89.9  Thu May  7 12:01:08 2020\n",
       "1      203    Neutral      89.9  Thu May  7 12:01:08 2020\n",
       "2      204    Fearful      89.9  Thu May  7 12:01:09 2020\n",
       "3      205  Surprised      89.9  Thu May  7 12:01:09 2020\n",
       "4      206    Neutral      89.9  Thu May  7 12:39:13 2020\n",
       "..     ...        ...       ...                       ...\n",
       "432    634    Fearful      89.9  Sat May  9 15:53:14 2020\n",
       "433    635    Fearful      89.9  Sat May 16 12:35:49 2020\n",
       "434    636    Neutral      89.9  Sat May 16 12:35:49 2020\n",
       "435    637    Fearful      89.9  Sat May 16 12:35:49 2020\n",
       "436    638    Neutral      89.9  Sat May 16 12:35:50 2020\n",
       "\n",
       "[437 rows x 4 columns]"
      ]
     },
     "execution_count": 7,
     "metadata": {},
     "output_type": "execute_result"
    }
   ],
   "source": [
    "df"
   ]
  },
  {
   "cell_type": "code",
   "execution_count": 14,
   "metadata": {},
   "outputs": [
    {
     "data": {
      "text/html": [
       "<div>\n",
       "<style scoped>\n",
       "    .dataframe tbody tr th:only-of-type {\n",
       "        vertical-align: middle;\n",
       "    }\n",
       "\n",
       "    .dataframe tbody tr th {\n",
       "        vertical-align: top;\n",
       "    }\n",
       "\n",
       "    .dataframe thead th {\n",
       "        text-align: right;\n",
       "    }\n",
       "</style>\n",
       "<table border=\"1\" class=\"dataframe\">\n",
       "  <thead>\n",
       "    <tr style=\"text-align: right;\">\n",
       "      <th></th>\n",
       "      <th>logID</th>\n",
       "      <th>Accuracy</th>\n",
       "    </tr>\n",
       "  </thead>\n",
       "  <tbody>\n",
       "    <tr>\n",
       "      <th>count</th>\n",
       "      <td>437.000000</td>\n",
       "      <td>437.0</td>\n",
       "    </tr>\n",
       "    <tr>\n",
       "      <th>mean</th>\n",
       "      <td>420.000000</td>\n",
       "      <td>89.9</td>\n",
       "    </tr>\n",
       "    <tr>\n",
       "      <th>std</th>\n",
       "      <td>126.295289</td>\n",
       "      <td>0.0</td>\n",
       "    </tr>\n",
       "    <tr>\n",
       "      <th>min</th>\n",
       "      <td>202.000000</td>\n",
       "      <td>89.9</td>\n",
       "    </tr>\n",
       "    <tr>\n",
       "      <th>25%</th>\n",
       "      <td>311.000000</td>\n",
       "      <td>89.9</td>\n",
       "    </tr>\n",
       "    <tr>\n",
       "      <th>50%</th>\n",
       "      <td>420.000000</td>\n",
       "      <td>89.9</td>\n",
       "    </tr>\n",
       "    <tr>\n",
       "      <th>75%</th>\n",
       "      <td>529.000000</td>\n",
       "      <td>89.9</td>\n",
       "    </tr>\n",
       "    <tr>\n",
       "      <th>max</th>\n",
       "      <td>638.000000</td>\n",
       "      <td>89.9</td>\n",
       "    </tr>\n",
       "  </tbody>\n",
       "</table>\n",
       "</div>"
      ],
      "text/plain": [
       "            logID  Accuracy\n",
       "count  437.000000     437.0\n",
       "mean   420.000000      89.9\n",
       "std    126.295289       0.0\n",
       "min    202.000000      89.9\n",
       "25%    311.000000      89.9\n",
       "50%    420.000000      89.9\n",
       "75%    529.000000      89.9\n",
       "max    638.000000      89.9"
      ]
     },
     "execution_count": 14,
     "metadata": {},
     "output_type": "execute_result"
    }
   ],
   "source": [
    "df.describe()"
   ]
  },
  {
   "cell_type": "code",
   "execution_count": 18,
   "metadata": {},
   "outputs": [
    {
     "data": {
      "text/plain": [
       "array(['Fearful', 'Neutral', 'Surprised', 'Happy', 'Sad', 'Angry'],\n",
       "      dtype=object)"
      ]
     },
     "execution_count": 18,
     "metadata": {},
     "output_type": "execute_result"
    }
   ],
   "source": [
    "df['Emotion'].unique()"
   ]
  },
  {
   "cell_type": "code",
   "execution_count": 19,
   "metadata": {},
   "outputs": [],
   "source": [
    "data = df.copy()"
   ]
  },
  {
   "cell_type": "code",
   "execution_count": 20,
   "metadata": {},
   "outputs": [],
   "source": [
    "data['Emotion'] = data['Emotion'].map({'Fearful':0, 'Neutral':1, 'Surprised':2, 'Happy':3, 'Sad':4, 'Angry':5})"
   ]
  },
  {
   "cell_type": "code",
   "execution_count": 21,
   "metadata": {},
   "outputs": [
    {
     "data": {
      "text/html": [
       "<div>\n",
       "<style scoped>\n",
       "    .dataframe tbody tr th:only-of-type {\n",
       "        vertical-align: middle;\n",
       "    }\n",
       "\n",
       "    .dataframe tbody tr th {\n",
       "        vertical-align: top;\n",
       "    }\n",
       "\n",
       "    .dataframe thead th {\n",
       "        text-align: right;\n",
       "    }\n",
       "</style>\n",
       "<table border=\"1\" class=\"dataframe\">\n",
       "  <thead>\n",
       "    <tr style=\"text-align: right;\">\n",
       "      <th></th>\n",
       "      <th>logID</th>\n",
       "      <th>Emotion</th>\n",
       "      <th>Accuracy</th>\n",
       "      <th>TimeStamp</th>\n",
       "    </tr>\n",
       "  </thead>\n",
       "  <tbody>\n",
       "    <tr>\n",
       "      <th>0</th>\n",
       "      <td>202</td>\n",
       "      <td>0</td>\n",
       "      <td>89.9</td>\n",
       "      <td>Thu May  7 12:01:08 2020</td>\n",
       "    </tr>\n",
       "    <tr>\n",
       "      <th>1</th>\n",
       "      <td>203</td>\n",
       "      <td>1</td>\n",
       "      <td>89.9</td>\n",
       "      <td>Thu May  7 12:01:08 2020</td>\n",
       "    </tr>\n",
       "    <tr>\n",
       "      <th>2</th>\n",
       "      <td>204</td>\n",
       "      <td>0</td>\n",
       "      <td>89.9</td>\n",
       "      <td>Thu May  7 12:01:09 2020</td>\n",
       "    </tr>\n",
       "    <tr>\n",
       "      <th>3</th>\n",
       "      <td>205</td>\n",
       "      <td>2</td>\n",
       "      <td>89.9</td>\n",
       "      <td>Thu May  7 12:01:09 2020</td>\n",
       "    </tr>\n",
       "    <tr>\n",
       "      <th>4</th>\n",
       "      <td>206</td>\n",
       "      <td>1</td>\n",
       "      <td>89.9</td>\n",
       "      <td>Thu May  7 12:39:13 2020</td>\n",
       "    </tr>\n",
       "    <tr>\n",
       "      <th>...</th>\n",
       "      <td>...</td>\n",
       "      <td>...</td>\n",
       "      <td>...</td>\n",
       "      <td>...</td>\n",
       "    </tr>\n",
       "    <tr>\n",
       "      <th>432</th>\n",
       "      <td>634</td>\n",
       "      <td>0</td>\n",
       "      <td>89.9</td>\n",
       "      <td>Sat May  9 15:53:14 2020</td>\n",
       "    </tr>\n",
       "    <tr>\n",
       "      <th>433</th>\n",
       "      <td>635</td>\n",
       "      <td>0</td>\n",
       "      <td>89.9</td>\n",
       "      <td>Sat May 16 12:35:49 2020</td>\n",
       "    </tr>\n",
       "    <tr>\n",
       "      <th>434</th>\n",
       "      <td>636</td>\n",
       "      <td>1</td>\n",
       "      <td>89.9</td>\n",
       "      <td>Sat May 16 12:35:49 2020</td>\n",
       "    </tr>\n",
       "    <tr>\n",
       "      <th>435</th>\n",
       "      <td>637</td>\n",
       "      <td>0</td>\n",
       "      <td>89.9</td>\n",
       "      <td>Sat May 16 12:35:49 2020</td>\n",
       "    </tr>\n",
       "    <tr>\n",
       "      <th>436</th>\n",
       "      <td>638</td>\n",
       "      <td>1</td>\n",
       "      <td>89.9</td>\n",
       "      <td>Sat May 16 12:35:50 2020</td>\n",
       "    </tr>\n",
       "  </tbody>\n",
       "</table>\n",
       "<p>437 rows × 4 columns</p>\n",
       "</div>"
      ],
      "text/plain": [
       "     logID  Emotion  Accuracy                 TimeStamp\n",
       "0      202        0      89.9  Thu May  7 12:01:08 2020\n",
       "1      203        1      89.9  Thu May  7 12:01:08 2020\n",
       "2      204        0      89.9  Thu May  7 12:01:09 2020\n",
       "3      205        2      89.9  Thu May  7 12:01:09 2020\n",
       "4      206        1      89.9  Thu May  7 12:39:13 2020\n",
       "..     ...      ...       ...                       ...\n",
       "432    634        0      89.9  Sat May  9 15:53:14 2020\n",
       "433    635        0      89.9  Sat May 16 12:35:49 2020\n",
       "434    636        1      89.9  Sat May 16 12:35:49 2020\n",
       "435    637        0      89.9  Sat May 16 12:35:49 2020\n",
       "436    638        1      89.9  Sat May 16 12:35:50 2020\n",
       "\n",
       "[437 rows x 4 columns]"
      ]
     },
     "execution_count": 21,
     "metadata": {},
     "output_type": "execute_result"
    }
   ],
   "source": [
    "data"
   ]
  },
  {
   "cell_type": "code",
   "execution_count": 48,
   "metadata": {},
   "outputs": [],
   "source": [
    "perc = df['Emotion'].value_counts(normalize=True) * 100"
   ]
  },
  {
   "cell_type": "code",
   "execution_count": 49,
   "metadata": {},
   "outputs": [
    {
     "data": {
      "text/plain": [
       "Fearful      37.070938\n",
       "Surprised    29.977117\n",
       "Neutral      26.544622\n",
       "Happy         3.432494\n",
       "Sad           1.601831\n",
       "Angry         1.372998\n",
       "Name: Emotion, dtype: float64"
      ]
     },
     "execution_count": 49,
     "metadata": {},
     "output_type": "execute_result"
    }
   ],
   "source": [
    "perc"
   ]
  },
  {
   "cell_type": "code",
   "execution_count": 53,
   "metadata": {},
   "outputs": [
    {
     "data": {
      "image/png": "[encoded data removed]",
      "text/plain": [
       "<Figure size 360x360 with 1 Axes>"
      ]
     },
     "metadata": {},
     "output_type": "display_data"
    }
   ],
   "source": [
    "plot = perc.plot.pie(subplots=True, figsize=(5, 5),autopct='%1.0f%%')"
   ]
  },
  {
   "cell_type": "code",
   "execution_count": null,
   "metadata": {},
   "outputs": [],
   "source": []
  }
 ],
 "metadata": {
  "kernelspec": {
   "display_name": "Python 3",
   "language": "python",
   "name": "python3"
  },
  "language_info": {
   "codemirror_mode": {
    "name": "ipython",
    "version": 3
   },
   "file_extension": ".py",
   "mimetype": "text/x-python",
   "name": "python",
   "nbconvert_exporter": "python",
   "pygments_lexer": "ipython3",
   "version": "3.7.7"
  }
 },
 "nbformat": 4,
 "nbformat_minor": 4
}
